{
  "cells": [
    {
      "cell_type": "markdown",
      "metadata": {},
      "source": [
        "# Homework 4\n",
        "\n",
        "The American Community Survey (ACS) is a large survey of households\n",
        "and individuals in the United States, carried out by the US\n",
        "government on a continuous basis (around 3.5 million people are\n",
        "contacted per year).  It is arguably the most authoritative source\n",
        "of information about the demographic composition of the US\n",
        "population, and is used for many purposes in academic research,\n",
        "government, public policy, and in private industry.\n",
        "\n",
        "Some of the questions in the ACS are about sensitive topics, and therefore are only released in aggregate form. The \"public use microsample\" (PUMS) is a set of individual ACS responses that only includes information that has been deemed safe for public release at the individual level. Here we will work with a subset of the ACS/PUMS data.\n",
        "\n",
        "You will need to refer to the documentation to know what the ACS variable names mean: **[ACS PUMS Codebooks](https://www.census.gov/programs-surveys/acs/microdata/documentation/2018.html)** Scroll down for data dictionary 2018 \"1-year\" ACS/PUMS, available in several formats. This file is also available as a [PDF on our Google Drive](https://drive.google.com/file/d/1Oact1X4F1USo8rhAU9w4AjhEbFhwpK19/view?usp=drive_link).\n",
        "\n",
        "For this course, we are providing a simplified version of the ACS/PUMS data from 2018. It contains a random subset of the cases and a selected subset of variables.\n",
        "\n",
        "Note that many PUMS variables are described as being \"household\" or \"individual\" variables. These refer to characteristics of households (one or more people living at the same address) or to characteristics of individual people, respectively.\n"
      ]
    },
    {
      "cell_type": "code",
      "execution_count": null,
      "metadata": {},
      "outputs": [],
      "source": [
        "import pandas as pd\n",
        "import numpy as np\n",
        "import seaborn as sb\n",
        "import matplotlib.pyplot as plt"
      ]
    },
    {
      "cell_type": "code",
      "execution_count": null,
      "metadata": {},
      "outputs": [],
      "source": [
        "acs = pd.read_csv(\"pums_short.csv.gz\")"
      ]
    },
    {
      "cell_type": "markdown",
      "metadata": {},
      "source": [
        "## Question 1\n",
        "\n",
        "### Q 1.a\n",
        "\n",
        "Display the number of rows and columns in the table `acs` as well as the column names.\n",
        "\n",
        "### Q 1.b\n",
        "\n",
        "Using the codebook, investigate the `\"R65\"` column.\n",
        "\n",
        "* What information is contained in this columns?\n",
        "* What kind of data is this (nominal, ordinal, quantitative)?\n",
        "* Produce a plot that shows the distribution of `\"R65\"` or its key features.\n",
        "* Interpret the plot: what would say is a typical for for `\"VALP\"`?\n",
        "* Compute the cumulative proportions of this variable.\n",
        "* What proportion of households have either 0 or 1 person aged 65 or older?\n",
        "\n",
        "\n",
        "### Q 1.c\n",
        "\n",
        "Using the codebook, investigate the `\"VALP\"` column.\n",
        "\n",
        "* What information is contained in this columns?\n",
        "* What kind of data is this (nominal, ordinal, quantitative)?\n",
        "* Produce a plot that shows the distribution of `\"VALP\"` or its key features.\n",
        "* Interpret the plot: what would you say is a typical for for `\"VALP\"`?\n",
        "* Using numerical summaries, compute the proportion of households that are have less than 50,000 in property value, less than 100,000 in property value, and less than 200,000 in property value.\n",
        "* Compute the 0.1, 0.5, and 0.75 quantiles of `\"VALP\"`.\n",
        "\n",
        "\n",
        "### Q 1.d\n",
        "\n",
        "Using the codebook, investigate the `\"REGION\"` column.\n",
        "\n",
        "* What information is contained in this columns?\n",
        "* What kind of data is this (nominal, ordinal, quantitative)?\n",
        "* Using the `replace` method for Series objects, replace the numbers in the `\"REGION\"` column with the names of the regions. Call this new column `\"REGION_name\"`.\n",
        "* Produce a plot that shows the distribution of `\"REGION_name\"` or its key features.\n",
        "* Calculate the distribution of the `\"REGION_name\"` column and print out the results. What proportion of households are in the Northeast and the South combined?\n",
        "\n",
        "\n",
        "\n",
        "\n",
        "## Question 2\n",
        "\n",
        "### Q 2.a\n",
        "\n",
        "Review the `\"ST\"` column in the code book. We can see that the values for `\"ST\"` are numbers in the data set. Should we consider these to be *nominal* data? Why or why not?\n",
        "\n",
        "### Q 2.b\n",
        "\n",
        "Below are two lists with the state codes and the state names listed in the code book for \"ST\".\n",
        "\n",
        "Use these with the `replace` method for Series objects to get a new version of the `\"ST\"` column with nicer, easier to read names. Call this new column `\"ST_name\"`. Demonstrate your results by printing out the state name of the row at position 101,206 in the table."
      ]
    },
    {
      "cell_type": "code",
      "execution_count": null,
      "metadata": {},
      "outputs": [],
      "source": [
        "st_nums = [1, 2, 4, 5, 6, 8, 9, 10, 11, 12, 13, 15, 16, 17, 18, 19, 20, 21, 22, 23, 24, 25, 26, 27, 28, 29, 30, 31, 32, 33, 34, 35, 36, 37, 38, 39, 40, 41, 42, 44, 45, 46, 47, 48, 49, 50, 51, 53, 54, 55, 56, 72]\n",
        "st_names = \"Alabama/AL,Alaska/AK,Arizona/AZ,Arkansas/AR,California/CA,Colorado/CO,Connecticut/CT,Delaware/DE,District of Columbia/DC,Florida/FL,Georgia/GA,Hawaii/HI,Idaho/ID,Illinois/IL,Indiana/IN,Iowa/IA,Kansas/KS,Kentucky/KY,Louisiana/LA,Maine/ME,Maryland/MD,Massachusetts/MA,Michigan/MI,Minnesota/MN,Mississippi/MS,Missouri/MO,Montana/MT,Nebraska/NE,Nevada/NV,New Hampshire/NH,New Jersey/NJ,New Mexico/NM,New York/NY,North Carolina/NC,North Dakota/ND,Ohio/OH,Oklahoma/OK,Oregon/OR,Pennsylvania/PA,Rhode Island/RI,South Carolina/SC,South Dakota/SD,Tennessee/TN,Texas/TX,Utah/UT,Vermont/VT,Virginia/VA,Washington/WA,West Virginia/WV,Wisconsin/WI,Wyoming/WY,Puerto Rico/PRa\".split(\",\")"
      ]
    },
    {
      "cell_type": "markdown",
      "metadata": {},
      "source": [
        "### Q 2.c\n",
        "\n",
        "Review the codebook for the `PUMA` column. The description notes that we need to \"use with ST for unique code.\" In other words, the same PUMA code may appear in multiple states, so knowing just the PUMA code is not sufficient to know where a household lives.\n",
        "\n",
        "Verify this result by using `groupby` to create a tall table that contains the number of households in each \"ST_name\" and \"PUMA\" combination (hint: recall the `.size()` method). Use the `.reset_index()` method on this result to make it a little easier to work with. Call this table `ST_PUMA`.\n",
        "\n",
        "Show that PUMA number 100 appears in multiple states.\n",
        "\n",
        "\n",
        "### Q 2.d\n",
        "\n",
        "For each state, find the size (in terms of households) of the largest PUMA in that state.\n"
      ]
    },
    {
      "cell_type": "markdown",
      "metadata": {},
      "source": [
        "### Q 2.e\n",
        "\n",
        "For each `ST_name` and `PUMA` combination, add up the total income of all households. Use `.reset_index(name = \"total_income\")` to make the table a little easier to work with.\n",
        "\n",
        "Graph the distribution of total income per ST_state-PUMA combination. Using the graph, answer the following questions:\n",
        "\n",
        "* What is a typical value for these total incomes? \n",
        "* Where do most of the observations falls? \n",
        "* Do you see about equal variation across the range of the `total_income` values. \n",
        "\n",
        "(Note: there is a good chance the graph axes will be in \"scientific notation.\" A value like 3e7 means $3 \\times 10^7$.)\n"
      ]
    }
  ],
  "metadata": {
    "kernelspec": {
      "display_name": "Python 3",
      "language": "python",
      "name": "python3"
    }
  },
  "nbformat": 4,
  "nbformat_minor": 4
}
